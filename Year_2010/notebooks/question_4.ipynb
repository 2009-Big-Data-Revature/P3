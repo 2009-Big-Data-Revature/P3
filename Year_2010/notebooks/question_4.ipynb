{
 "cells": [
  {
   "cell_type": "code",
   "execution_count": 1,
   "metadata": {},
   "outputs": [
    {
     "name": "stderr",
     "output_type": "stream",
     "text": [
      "your 131072x1 screen size is bogus. expect trouble\n",
      "24/08/26 10:36:07 WARN Utils: Your hostname, LAPTOP-E2047RF4 resolves to a loopback address: 127.0.1.1; using 192.168.157.37 instead (on interface eth0)\n",
      "24/08/26 10:36:07 WARN Utils: Set SPARK_LOCAL_IP if you need to bind to another address\n",
      "Setting default log level to \"WARN\".\n",
      "To adjust logging level use sc.setLogLevel(newLevel). For SparkR, use setLogLevel(newLevel).\n",
      "24/08/26 10:36:10 WARN NativeCodeLoader: Unable to load native-hadoop library for your platform... using builtin-java classes where applicable\n"
     ]
    }
   ],
   "source": [
    "from pyspark.sql import SparkSession, DataFrame\n",
    "from pyspark.sql import DataFrame,functions as f\n",
    "from env_vars import AWS_ACCESS_KEY_ID, AWS_SECRET_ACCESS_KEY\n",
    "\n",
    "spark = SparkSession.builder \\\n",
    "    .appName(\"S3 to Spark DataFrame\") \\\n",
    "    .config(\"spark.hadoop.fs.s3a.impl\", \"org.apache.hadoop.fs.s3a.S3AFileSystem\") \\\n",
    "    .config(\"spark.hadoop.fs.s3a.aws.credentials.provider\", \"org.apache.hadoop.fs.s3a.SimpleAWSCredentialsProvider\") \\\n",
    "    .config(\"spark.hadoop.fs.s3a.access.key\", AWS_ACCESS_KEY_ID) \\\n",
    "    .config(\"spark.hadoop.fs.s3a.secret.key\", AWS_SECRET_ACCESS_KEY) \\\n",
    "    .config(\"spark.hadoop.fs.s3a.endpoint\", \"s3.amazonaws.com\") \\\n",
    "    .getOrCreate()\n",
    "\n",
    "years = [\"2000_\", \"2010_\", \"2020_\"]\n",
    "bucket_name = 'redistricting-data-2024'\n",
    "object_name = 'cleaned_data.csv'"
   ]
  },
  {
   "cell_type": "code",
   "execution_count": 2,
   "metadata": {},
   "outputs": [
    {
     "name": "stderr",
     "output_type": "stream",
     "text": [
      "                                                                                \r"
     ]
    }
   ],
   "source": [
    "df: DataFrame\n",
    "for i in range(len(years)):\n",
    "    file_name = f\"{years[i]}\" + object_name\n",
    "    s3_path = f's3a://{bucket_name}/{file_name}'\n",
    "    if i ==  0:\n",
    "        df = spark.read.csv(s3_path, header=True, inferSchema=True)\n",
    "    else:\n",
    "        df = df.union(spark.read.csv(s3_path, header=True, inferSchema=True))"
   ]
  },
  {
   "cell_type": "code",
   "execution_count": 56,
   "metadata": {},
   "outputs": [
    {
     "name": "stdout",
     "output_type": "stream",
     "text": [
      "+---------+------------+------+----------------+-----------+----------------------+---------------------------------------+-----------+--------------------------------------+-----------+-----------------+------------------+----------------------+----+\n",
      "|State Abv|Summary Code|Region|Total Population|White Alone|African-American Alone|American Indian and Alaska Native Alone|Asian Alone|Native Hawaiian/Pacific Islander Alone|Other Alone|Two or More Races|Hispanic or Latino|Not Hispanic or Latino|year|\n",
      "+---------+------------+------+----------------+-----------+----------------------+---------------------------------------+-----------+--------------------------------------+-----------+-----------------+------------------+----------------------+----+\n",
      "|       AL|          40|     3|         4447100|    3162808|               1155930|                                  22430|      31346|                                  1409|      28998|            44179|           4371270|               4332184|2000|\n",
      "|       AK|          40|     4|          626932|     434534|                 21787|                                  98043|      25116|                                  3309|       9997|            34146|            601080|                570626|2000|\n",
      "|       AZ|          40|     4|         5130632|    3873611|                158873|                                 255879|      92236|                                  6733|     596774|           146526|           3835015|               3758643|2000|\n",
      "|       AR|          40|     3|         2673400|    2138598|                418950|                                  17808|      20220|                                  1668|      40412|            35744|           2586534|               2556170|2000|\n",
      "|       CA|          40|     4|        33871648|   20170059|               2263882|                                 333346|    3697513|                                116961|    5682241|          1607646|          22905092|              22001977|2000|\n",
      "|       CO|          40|     4|         4301261|    3560005|                165063|                                  44241|      95213|                                  4621|     309931|           122187|           3565660|               3492939|2000|\n",
      "|       CT|          40|     1|         3405565|    2780355|                309843|                                   9639|      82313|                                  1366|     147201|            74848|           3085242|               3032346|2000|\n",
      "|       DE|          40|     3|          783600|     584773|                150666|                                   2731|      16259|                                   283|      15855|            13033|            746323|                736101|2000|\n",
      "|       FL|          40|     3|        15982378|   12465029|               2335505|                                  53541|     266256|                                  8625|     477107|           376315|          13299663|              13062709|2000|\n",
      "|       GA|          40|     3|         8186453|    5327281|               2349542|                                  21737|     173170|                                  4246|     196289|           114188|           7751226|               7663862|2000|\n",
      "|       HI|          40|     4|         1211537|     294102|                 22003|                                   3535|     503868|                                113539|      15147|           259343|           1123838|                905138|2000|\n",
      "|       ID|          40|     4|         1293953|    1177304|                  5456|                                  17645|      11889|                                  1308|      54742|            25609|           1192263|               1174002|2000|\n",
      "|       IL|          40|     2|        12419293|    9125471|               1876875|                                  31006|     423603|                                  4610|     722712|           235016|          10889031|              10735035|2000|\n",
      "|       IN|          40|     2|         6080485|    5320022|                510034|                                  15815|      59126|                                  2005|      97811|            75672|           5865949|               5804834|2000|\n",
      "|       IA|          40|     2|         2926324|    2748640|                 61853|                                   8989|      36635|                                  1009|      37420|            31778|           2843851|               2818379|2000|\n",
      "|       KS|          40|     2|         2688418|    2313944|                154198|                                  24936|      46806|                                  1313|      90725|            56496|           2500166|               2457658|2000|\n",
      "|       KY|          40|     3|         4041769|    3640889|                295994|                                   8616|      29744|                                  1460|      22623|            42443|           3981830|               3944080|2000|\n",
      "|       LA|          40|     3|         4468976|    2856161|               1451944|                                  25477|      54758|                                  1240|      31131|            48265|           4361238|               4321978|2000|\n",
      "|       ME|          40|     1|         1274923|    1236014|                  6760|                                   7098|       9111|                                   382|       2911|            12647|           1265563|               1253832|2000|\n",
      "|       MD|          40|     3|         5296486|    3391308|               1477411|                                  15423|     210929|                                  2303|      95525|           103587|           5068570|               4985624|2000|\n",
      "+---------+------------+------+----------------+-----------+----------------------+---------------------------------------+-----------+--------------------------------------+-----------+-----------------+------------------+----------------------+----+\n",
      "only showing top 20 rows\n",
      "\n"
     ]
    },
    {
     "name": "stderr",
     "output_type": "stream",
     "text": [
      "                                                                                \r"
     ]
    }
   ],
   "source": [
    "df.show()"
   ]
  },
  {
   "cell_type": "code",
   "execution_count": 61,
   "metadata": {},
   "outputs": [],
   "source": [
    "df1 = spark.createDataFrame(df.where(df[\"year\"] == 2000).select(\"State Abv\", \"Total Population\", \"year\")\\\n",
    "    .orderBy(f.desc(df[\"Total Population\"])).take(5))\n",
    "df2 = spark.createDataFrame(df.where(df[\"year\"] == 2010).select(\"State Abv\", \"Total Population\", \"year\")\\\n",
    "    .orderBy(f.desc(df[\"Total Population\"])).take(5))\n",
    "df3 = spark.createDataFrame(df.where(df[\"year\"] == 2020).select(\"State Abv\", \"Total Population\", \"year\")\\\n",
    "    .orderBy(f.desc(df[\"Total Population\"])).take(5))"
   ]
  },
  {
   "cell_type": "code",
   "execution_count": 92,
   "metadata": {},
   "outputs": [
    {
     "name": "stdout",
     "output_type": "stream",
     "text": [
      "+---------+----------------+----+\n",
      "|State Abv|Total Population|year|\n",
      "+---------+----------------+----+\n",
      "|       CA|        33871648|2000|\n",
      "|       TX|        20851820|2000|\n",
      "|       NY|        18976457|2000|\n",
      "|       IL|        12419293|2000|\n",
      "|       FL|        15982378|2000|\n",
      "|       PA|        12281054|2000|\n",
      "|       CA|        37253956|2010|\n",
      "|       TX|        25145561|2010|\n",
      "|       NY|        19378102|2010|\n",
      "|       IL|        12830632|2010|\n",
      "|       FL|        18801310|2010|\n",
      "|       PA|        12702379|2010|\n",
      "|       CA|        39538223|2020|\n",
      "|       TX|        29145505|2020|\n",
      "|       NY|        20201249|2020|\n",
      "|       FL|        21538187|2020|\n",
      "|       IL|        12812508|2020|\n",
      "|       PA|        13002700|2020|\n",
      "+---------+----------------+----+\n",
      "\n"
     ]
    }
   ],
   "source": [
    "df_top5_state_population_by_year = df.join(df1, df[\"State Abv\"] == df1[\"State Abv\"])\\\n",
    "    .union(df.join(df2, df[\"State Abv\"] == df2[\"State Abv\"]))\\\n",
    "    .union(df.join(df3, df[\"State Abv\"] == df3[\"State Abv\"]))\\\n",
    "    .groupBy(df[\"State Abv\"], df[\"Total Population\"], df[\"year\"])\\\n",
    "    .count()\\\n",
    "    .select(\"State Abv\", \"Total Population\", \"year\").orderBy(\"year\")"
   ]
  },
  {
   "cell_type": "code",
   "execution_count": 97,
   "metadata": {},
   "outputs": [
    {
     "name": "stdout",
     "output_type": "stream",
     "text": [
      "+------+----+----------------+\n",
      "|Region|Year|Total_Population|\n",
      "+------+----+----------------+\n",
      "|     1|2000|        53594378|\n",
      "|     2|2000|        64392776|\n",
      "|     3|2000|       100236820|\n",
      "|     4|2000|        63197932|\n",
      "|     9|2000|         3808610|\n",
      "|     1|2010|        55317240|\n",
      "|     2|2010|        66927001|\n",
      "|     3|2010|       114555744|\n",
      "|     4|2010|        71945553|\n",
      "|     9|2010|         3725789|\n",
      "|     1|2020|        57609148|\n",
      "|     2|2020|        68985454|\n",
      "|     3|2020|       126266107|\n",
      "|     4|2020|        78588572|\n",
      "|     9|2020|         3285874|\n",
      "+------+----+----------------+\n",
      "\n"
     ]
    }
   ],
   "source": [
    "df_top_region_population= df.groupBy(\"Region\", \"Year\").agg(f.sum(\"Total Population\").alias(\"Total_Population\")).orderBy(\"year\", \"Region\")"
   ]
  }
 ],
 "metadata": {
  "kernelspec": {
   "display_name": "Python 3",
   "language": "python",
   "name": "python3"
  },
  "language_info": {
   "codemirror_mode": {
    "name": "ipython",
    "version": 3
   },
   "file_extension": ".py",
   "mimetype": "text/x-python",
   "name": "python",
   "nbconvert_exporter": "python",
   "pygments_lexer": "ipython3",
   "version": "3.8.10"
  }
 },
 "nbformat": 4,
 "nbformat_minor": 2
}
